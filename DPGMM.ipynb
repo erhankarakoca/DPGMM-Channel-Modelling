{
 "cells": [
  {
   "cell_type": "markdown",
   "metadata": {
    "papermill": {
     "duration": 0.012112,
     "end_time": "2020-12-20T20:45:32.375345",
     "exception": false,
     "start_time": "2020-12-20T20:45:32.363233",
     "status": "completed"
    },
    "tags": []
   },
   "source": [
    "# Hierarchical Dirichlet Process Gamma Mixture Model for Terahertz Band Wireless Communication Channel Modelling "
   ]
  },
  {
   "cell_type": "code",
   "execution_count": null,
   "metadata": {
    "execution": {
     "iopub.execute_input": "2020-12-20T20:45:32.403413Z",
     "iopub.status.busy": "2020-12-20T20:45:32.402740Z",
     "iopub.status.idle": "2020-12-20T20:45:38.292921Z",
     "shell.execute_reply": "2020-12-20T20:45:38.292087Z"
    },
    "papermill": {
     "duration": 5.906876,
     "end_time": "2020-12-20T20:45:38.293074",
     "exception": false,
     "start_time": "2020-12-20T20:45:32.386198",
     "status": "completed"
    },
    "tags": []
   },
   "outputs": [],
   "source": [
    "import arviz as az\n",
    "import numpy as np\n",
    "import pandas as pd\n",
    "import pymc3 as pm\n",
    "import scipy as sp\n",
    "import seaborn as sns\n",
    "\n",
    "import pymc3.distributions.transforms as tr\n",
    "\n",
    "from matplotlib import pyplot as plt\n",
    "from theano import tensor as tt\n",
    "from scipy.io import savemat\n",
    "\n",
    "print(f\"Running on PyMC3 v{pm.__version__}\")"
   ]
  },
  {
   "cell_type": "code",
   "execution_count": null,
   "metadata": {
    "execution": {
     "iopub.execute_input": "2020-12-20T20:45:38.339204Z",
     "iopub.status.busy": "2020-12-20T20:45:38.337385Z",
     "iopub.status.idle": "2020-12-20T20:45:38.339813Z",
     "shell.execute_reply": "2020-12-20T20:45:38.340224Z"
    },
    "papermill": {
     "duration": 0.034525,
     "end_time": "2020-12-20T20:45:38.340340",
     "exception": false,
     "start_time": "2020-12-20T20:45:38.305815",
     "status": "completed"
    },
    "tags": []
   },
   "outputs": [],
   "source": [
    "%config InlineBackend.figure_format = 'retina'\n",
    "SEED = 8927\n",
    "rng = np.random.default_rng(SEED)\n",
    "az.style.use(\"arviz-darkgrid\")"
   ]
  },
  {
   "cell_type": "code",
   "execution_count": null,
   "metadata": {},
   "outputs": [],
   "source": [
    "THz_received_power = pd.read_csv(\"THz_measurement_data.csv\")"
   ]
  },
  {
   "cell_type": "code",
   "execution_count": null,
   "metadata": {},
   "outputs": [],
   "source": [
    "fig, ax = plt.subplots(figsize=(8, 6))\n",
    "\n",
    "n_bins = 50\n",
    "ax.hist(THz_received_power.twenty_cm, bins=n_bins, color=\"blue\", lw=0, alpha=0.5)\n",
    "\n",
    "ax.set_xlabel(\"P_rx\")\n",
    "ax.set_ylabel(\"Occurance\");"
   ]
  },
  {
   "cell_type": "code",
   "execution_count": null,
   "metadata": {},
   "outputs": [],
   "source": [
    "# Truncation number\n",
    "K=30"
   ]
  },
  {
   "cell_type": "code",
   "execution_count": null,
   "metadata": {},
   "outputs": [],
   "source": [
    "def stick_breaking(beta):\n",
    "    portion_remaining = tt.concatenate([[1], tt.extra_ops.cumprod(1 - beta)[:-1]])\n",
    "    return beta * portion_remaining"
   ]
  },
  {
   "cell_type": "code",
   "execution_count": null,
   "metadata": {},
   "outputs": [],
   "source": [
    "# Hyper-priors\n",
    "var_phi = 1\n",
    "var_rho = 1\n",
    "epsilon_= 1\n",
    "mu_     = 1\n",
    "\n",
    "var_theta = 1\n",
    "var_pi    = 1\n",
    "zeta_     = 0.001"
   ]
  },
  {
   "cell_type": "code",
   "execution_count": null,
   "metadata": {
    "execution": {
     "iopub.execute_input": "2020-12-20T20:45:38.913682Z",
     "iopub.status.busy": "2020-12-20T20:45:38.912969Z",
     "iopub.status.idle": "2020-12-20T20:46:50.162170Z",
     "shell.execute_reply": "2020-12-20T20:46:50.161160Z"
    },
    "papermill": {
     "duration": 71.268227,
     "end_time": "2020-12-20T20:46:50.162293",
     "exception": false,
     "start_time": "2020-12-20T20:45:38.894066",
     "status": "completed"
    },
    "tags": []
   },
   "outputs": [],
   "source": [
    "# model \n",
    "with pm.Model() as model: \n",
    "    alpha = pm.Gamma(\"alpha\", 1.0, 1.0)\n",
    "    beta = pm.Beta(\"beta\", 1.0, alpha, shape=K)\n",
    "    w = pm.Deterministic(\"w\", stick_breaking(beta))\n",
    "\n",
    "    upsilon_ = pm.Gamma(\"upsilon_\", alpha = var_phi , beta = var_rho , shape = K )\n",
    "    nu_      = pm.InverseGamma(\"nu_\", alpha = epsilon_ , beta = mu_ , shape = K )\n",
    "    beta_    = pm.Gamma(\"beta_\", alpha = nu_ , beta = upsilon_ , shape = K )\n",
    "\n",
    "    lambda_  = pm.InverseGamma(\"lambda_\", alpha = var_theta, beta= var_pi, shape = K )\n",
    "    kappa_   = pm.Exponential(\"kappa_\",    lam   = zeta_, shape = K)\n",
    "    alpha_   = pm.InverseGamma(\"alpha_\", alpha = lambda_, beta = kappa_, shape = K )\n",
    "    \n",
    "    components = pm.Gamma.dist(alpha=alpha_, beta=beta_, shape = K )\n",
    "    x_obs = pm.Mixture(\"x_obs\", w, comp_dists=components, observed=THz_received_power.twenty_cm.values)"
   ]
  },
  {
   "cell_type": "code",
   "execution_count": null,
   "metadata": {},
   "outputs": [],
   "source": [
    "# Show model structure\n",
    "pm.model_to_graphviz(model)"
   ]
  },
  {
   "cell_type": "code",
   "execution_count": null,
   "metadata": {
    "execution": {
     "iopub.execute_input": "2020-12-20T20:46:50.194176Z",
     "iopub.status.busy": "2020-12-20T20:46:50.193603Z",
     "iopub.status.idle": "2020-12-20T20:56:38.008263Z",
     "shell.execute_reply": "2020-12-20T20:56:38.008736Z"
    },
    "papermill": {
     "duration": 587.834129,
     "end_time": "2020-12-20T20:56:38.008902",
     "exception": false,
     "start_time": "2020-12-20T20:46:50.174773",
     "status": "completed"
    },
    "tags": []
   },
   "outputs": [],
   "source": [
    "# Different options can be applied.\n",
    "with model:\n",
    "    trace = pm.sample(.................................)"
   ]
  },
  {
   "cell_type": "code",
   "execution_count": null,
   "metadata": {},
   "outputs": [],
   "source": [
    "x_plot = np.linspace(4, 11.5, 4096)\n",
    "n_components_used = np.apply_along_axis(lambda x: np.unique(x).size, 1, trace['component'])\n",
    "fig, ax = plt.subplots(figsize=(8, 6))\n",
    "\n",
    "bins = np.arange(n_components_used.min(), n_components_used.max() + 1)\n",
    "ax.hist(n_components_used + 1, bins=bins, density=True, lw=0, alpha=0.75);\n",
    "\n",
    "ax.set_xticks(bins + 0.5);\n",
    "ax.set_xticklabels(bins);\n",
    "ax.set_xlim(bins.min(), bins.max() + 1);\n",
    "ax.set_xlabel('Number of mixture components used');\n",
    "\n",
    "ax.set_ylabel('Posterior probability');\n",
    "\n",
    "post_pdf_contribs = sp.stats.gamma.pdf(\n",
    "    x=np.atleast_3d(x_plot),\n",
    "    a=trace[\"alpha_\"][:, np.newaxis, :],\n",
    "    scale=1/trace[\"beta_\"][:, np.newaxis, :],\n",
    ")\n",
    "post_pdfs = (trace['w'][:, np.newaxis, :] * post_pdf_contribs).sum(axis=-1)\n",
    "\n",
    "post_pdf_low, post_pdf_high = np.percentile(post_pdfs, [2.5, 97.5], axis=0)\n",
    "\n",
    "\n",
    "fig, ax = plt.subplots(figsize=(8, 6))\n",
    "\n",
    "n_bins = 20\n",
    "ax.hist(THz_received_power.twenty_cm.values, bins=n_bins, density=True,\n",
    "        color=\"blue\", lw=0, alpha=0.5);\n",
    "\n",
    "ax.fill_between(x_plot, post_pdf_low, post_pdf_high,\n",
    "                color='gray', alpha=0.45);\n",
    "ax.plot(x_plot, post_pdfs[0],\n",
    "        c='gray', label='Posterior sample densities');\n",
    "ax.plot(x_plot, post_pdfs[::100].T, c='gray');\n",
    "ax.plot(x_plot, post_pdfs.mean(axis=0),\n",
    "        c='k', label='Posterior expected density');\n",
    "\n",
    "ax.set_xlabel('Standardized waiting time between eruptions');\n",
    "\n",
    "ax.set_yticklabels([]);\n",
    "ax.set_ylabel('Density');\n",
    "\n",
    "ax.legend(loc=2);\n",
    "\n",
    "\n",
    "fig, ax = plt.subplots(figsize=(8, 6))\n",
    "\n",
    "n_bins = 20\n",
    "ax.hist(THz_received_power.twenty_cm.values, bins=n_bins, density=True,\n",
    "        color=\"blue\", lw=0, alpha=0.5);\n",
    "\n",
    "ax.plot(x_plot, post_pdfs.mean(axis=0),\n",
    "        c='k', label='Posterior expected density');\n",
    "ax.plot(x_plot, (trace['w'][:, np.newaxis, :] * post_pdf_contribs).mean(axis=0)[:, 0],\n",
    "        '--', c='k', label='Posterior expected mixture\\ncomponents\\n(weighted)');\n",
    "ax.plot(x_plot, (trace['w'][:, np.newaxis, :] * post_pdf_contribs).mean(axis=0),\n",
    "        '--', c='k');\n",
    "\n",
    "ax.set_xlabel('Standardized waiting time between eruptions');\n",
    "\n",
    "ax.set_yticklabels([]);\n",
    "ax.set_ylabel('Density');\n",
    "\n",
    "ax.legend(loc=2);"
   ]
  },
  {
   "cell_type": "code",
   "execution_count": null,
   "metadata": {},
   "outputs": [],
   "source": [
    "fig, ax = plt.subplots(figsize=(8, 6))\n",
    "\n",
    "plot_w = np.arange(K) + 1\n",
    "\n",
    "ax.bar(plot_w-0.5 , trace[\"w\"].mean(axis=0), width=1.0, lw=0)\n",
    "\n",
    "ax.set_xlim(0.5, K)\n",
    "ax.set_xlabel(\"Component\")\n",
    "\n",
    "ax.set_ylabel(\"Posterior expected mixture weight\");\n",
    "\n",
    "print(\"weights shape =\", trace[\"w\"].shape)"
   ]
  },
  {
   "cell_type": "code",
   "execution_count": null,
   "metadata": {},
   "outputs": [],
   "source": [
    "x_plot = np.linspace(4, 11.5, 4096)\n",
    "post_pdf_contribs = sp.stats.gamma.pdf(\n",
    "    x=np.atleast_3d(x_plot),\n",
    "    a=trace[\"alpha_\"][:, np.newaxis, :],\n",
    "    scale=1/trace[\"beta_\"][:, np.newaxis, :],\n",
    ")\n",
    "post_pdfs = (trace[\"w\"][:, np.newaxis, :] * post_pdf_contribs).sum(axis=-1)\n",
    "\n",
    "post_pdf_low, post_pdf_high = np.percentile(post_pdfs, [2.5, 97.5], axis=0)\n",
    "post_pdf_contribs.shape"
   ]
  },
  {
   "cell_type": "code",
   "execution_count": null,
   "metadata": {},
   "outputs": [],
   "source": [
    "fig, ax = plt.subplots(figsize=(8, 6))\n",
    "\n",
    "n_bins = 50\n",
    "ax.hist(THz_received_power.twenty_cm.values, bins=n_bins, density=True, color=\"blue\", lw=0, alpha=0.5)\n",
    "\n",
    "ax.fill_between(x_plot, post_pdf_low, post_pdf_high, color=\"gray\", alpha=0.45)\n",
    "ax.plot(x_plot, post_pdfs[0],\"-\", c=\"gray\", label=\"Posterior sample densities\")\n",
    "ax.plot(x_plot, post_pdfs[::10].T,\"-\", c=\"gray\")\n",
    "ax.plot(x_plot, post_pdfs.mean(axis=0), \"--\", c=\"blue\", label=\"Posterior expected density\")\n",
    "\n",
    "ax.set_xlabel(\"P_rx\")\n",
    "\n",
    "ax.set_yticklabels([])\n",
    "ax.set_ylabel(\"Density\")\n",
    "\n",
    "ax.legend(loc=2);"
   ]
  },
  {
   "cell_type": "code",
   "execution_count": null,
   "metadata": {},
   "outputs": [],
   "source": [
    "fig, ax = plt.subplots(figsize=(8, 6))\n",
    "\n",
    "n_bins = 20\n",
    "ax.hist(THz_received_power.twenty_cm.values, bins=n_bins, density=True, color=\"blue\", lw=0, alpha=0.5)\n",
    "\n",
    "ax.plot(x_plot, post_pdfs.mean(axis=0), c=\"k\", label=\"Posterior expected density\")\n",
    "ax.plot(\n",
    "    x_plot,\n",
    "    (trace[\"w\"][:, np.newaxis, :] * post_pdf_contribs).mean(axis=0)[:, 0],\n",
    "    \"--\",\n",
    "    c=\"k\",\n",
    "    label=\"Posterior expected mixture\\ncomponents\\n(weighted)\",\n",
    ")\n",
    "ax.plot(x_plot, (trace[\"w\"][:, np.newaxis, :] * post_pdf_contribs).mean(axis=0), \"--\", c=\"k\")\n",
    "\n",
    "ax.set_xlabel(\"P_rx 20 cm\")\n",
    "\n",
    "ax.set_yticklabels([])\n",
    "ax.set_ylabel(\"Density\")\n",
    "\n",
    "ax.legend(loc=2);"
   ]
  },
  {
   "cell_type": "code",
   "execution_count": null,
   "metadata": {},
   "outputs": [],
   "source": [
    "mat_file = {  \n",
    "                \"generated_mixture_data\" : THz_received_power.twenty_cm.values, \n",
    "                \"x_plot\" : x_plot, \n",
    "                \"w_trace\" : trace[\"w\"][:, np.newaxis, :], \n",
    "                \"alpha_trace\" : trace[\"alpha_\"][:, np.newaxis, :], \n",
    "                \"beta_trace\" : trace[\"beta_\"][:, np.newaxis, :], \n",
    "                \"post_pdf_contribs\": post_pdf_contribs, \n",
    "                \"weighted_post_pdf_contribs\": (trace[\"w\"][:, np.newaxis, :] * post_pdf_contribs), \n",
    "                \"weighted_post_pdf_contribs_means\": (trace[\"w\"][:, np.newaxis, :] * post_pdf_contribs).mean(axis=0),  \n",
    "                \"post_pdfs\":  post_pdfs, \n",
    "                \"post_pdfs_means\":   post_pdfs.mean(axis=0)  }\n",
    "\n",
    "savemat(\"mat_file.mat\", mat_file)"
   ]
  }
 ],
 "metadata": {
  "kernelspec": {
   "display_name": "Python 3",
   "language": "python",
   "name": "python3"
  },
  "language_info": {
   "codemirror_mode": {
    "name": "ipython",
    "version": 3
   },
   "file_extension": ".py",
   "mimetype": "text/x-python",
   "name": "python",
   "nbconvert_exporter": "python",
   "pygments_lexer": "ipython3",
   "version": "3.9.7"
  },
  "papermill": {
   "duration": 806.637601,
   "end_time": "2020-12-20T20:58:55.254886",
   "environment_variables": {},
   "exception": null,
   "input_path": "__notebook__.ipynb",
   "output_path": "__notebook__.ipynb",
   "parameters": {},
   "start_time": "2020-12-20T20:45:28.617285",
   "version": "2.1.0"
  }
 },
 "nbformat": 4,
 "nbformat_minor": 4
}
